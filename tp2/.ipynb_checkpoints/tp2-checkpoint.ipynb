{
 "cells": [
  {
   "cell_type": "code",
   "execution_count": 1,
   "metadata": {},
   "outputs": [],
   "source": [
    "import cv2\n",
    "\n",
    "import numpy as np\n",
    "import matplotlib.pyplot as plt"
   ]
  },
  {
   "cell_type": "markdown",
   "metadata": {},
   "source": [
    "# Lendo o vídeo"
   ]
  },
  {
   "cell_type": "code",
   "execution_count": 9,
   "metadata": {},
   "outputs": [
    {
     "name": "stdout",
     "output_type": "stream",
     "text": [
      "*** Video ended ***\n"
     ]
    }
   ],
   "source": [
    "cap = cv2.VideoCapture('entrada.avi')\n",
    "frames = []\n",
    "\n",
    "while cap.isOpened():\n",
    "    ret, frame = cap.read()\n",
    "    if ret == False:\n",
    "        print('*** Video ended ***')\n",
    "        break\n",
    "        \n",
    "    frames.append(frame)\n",
    "    \n",
    "frames = np.array(frames)"
   ]
  },
  {
   "cell_type": "markdown",
   "metadata": {},
   "source": [
    "# Função show"
   ]
  },
  {
   "cell_type": "markdown",
   "metadata": {},
   "source": [
    "- A função *show* foi definida para que pudessemos ver as imagens na célula do notebook sem precisarmos abrir a janela extra do OpenCV, facilitando os testes e análises."
   ]
  },
  {
   "cell_type": "code",
   "execution_count": 3,
   "metadata": {},
   "outputs": [],
   "source": [
    "def show(img):\n",
    "    \"\"\"\n",
    "        Exibe uma imagem, na própria célula, usando matplotlib\n",
    "        \n",
    "        Parâmetros:\n",
    "        ----------\n",
    "        img : numpy.ndarray\n",
    "            Imagem a ser exibida\n",
    "    \"\"\"\n",
    "    \n",
    "    fig, ax = plt.subplots(1, 1, figsize=(10, 10))\n",
    "    ax.imshow(img, cmap=plt.cm.gray)\n",
    "    ax.set_axis_off()\n",
    "    plt.show()"
   ]
  },
  {
   "cell_type": "markdown",
   "metadata": {},
   "source": [
    "# Função homography\n",
    "- Função criada para estimar a matriz de homografia utilizando a função findHomography com o método RANSAC para filtrar erros grosseiros e a função warpPerspective para aplicar tal matriz na imagem.\n",
    "- Irá retornar o resultado binarizado para realizarmos posteriormente um template matching mais preciso."
   ]
  },
  {
   "cell_type": "code",
   "execution_count": 4,
   "metadata": {},
   "outputs": [],
   "source": [
    "def homography(img, src, target):\n",
    "    \"\"\"\n",
    "        Estima e aplica a matriz de homografia em um conjunto de pontos\n",
    "        \n",
    "        Parâmetros\n",
    "        ----------\n",
    "        img : numpy.ndarray\n",
    "            Imagem de onde os pontos foram extraídos\n",
    "            \n",
    "        src : numpy.ndarray\n",
    "            Pontos de origem (da imagem)\n",
    "            \n",
    "        target : numpy.ndarray\n",
    "            Pontos do alvo\n",
    "            \n",
    "        Retorno\n",
    "        -------\n",
    "        numpy.ndarray\n",
    "            Retorna aquela parte da imagem binarizada e com a homografia aplicada\n",
    "    \"\"\"\n",
    "    \n",
    "    # Obtendo os pontos no alvo e estimando a matriz de homografia usando RANSAC\n",
    "    dst = np.float32([[0,0], [0, target.shape[1]], [target.shape[0], target.shape[1]], [target.shape[0], 0]])\n",
    "    M = cv2.findHomography(src, dst, cv2.RANSAC)[0]\n",
    "    \n",
    "    # Aplicando o warpPerspective e binarizando a imagem\n",
    "    result = cv2.warpPerspective(img, M, (target.shape[0], target.shape[1]))\n",
    "    result[result < 80] = 0\n",
    "    result[result >= 80] = 255\n",
    "    \n",
    "    return result"
   ]
  },
  {
   "cell_type": "markdown",
   "metadata": {},
   "source": [
    "# Função get_targets\n",
    "- Função auxiliar usada para ler o arquivo que contêm o alvo, retornando o mesmo rotacionado em 0º, 90º, 180º e 270º respectivamente."
   ]
  },
  {
   "cell_type": "code",
   "execution_count": 5,
   "metadata": {},
   "outputs": [],
   "source": [
    "def get_targets(filename):\n",
    "    \"\"\"\n",
    "        Retorna o alvo rotacionado em 0º, 90º, 180º e 270º\n",
    "        \n",
    "        Parâmetros\n",
    "        ----------\n",
    "        filename : str\n",
    "            Nome do arquivo, .jpg por exemplo, do alvo\n",
    "            \n",
    "        Retorno\n",
    "        -------\n",
    "        list\n",
    "            Lista contendo o alvo rotacionado em 0º, 90º, 180º e 270º (nessa ordem)\n",
    "    \"\"\"\n",
    "    \n",
    "    # Lendo o alvo, convertendo para escalas de cinza e binarizando\n",
    "    target = cv2.imread(filename)\n",
    "    target = cv2.cvtColor(target, cv2.COLOR_BGR2GRAY)\n",
    "    target[target < 25] = 0\n",
    "    target[target >= 25] = 255\n",
    "    \n",
    "    targets_list = []\n",
    "    \n",
    "    # Rotacionando o alvo em cada um dos ângulos e salvando em uma lista\n",
    "    for angle in [0, 90, 180, 270]:\n",
    "        M = cv2.getRotationMatrix2D((target.shape[1]/2, target.shape[0]/2), angle, 1)\n",
    "        targets_list.append(cv2.warpAffine(target, M, (target.shape[0], target.shape[1])))\n",
    "                            \n",
    "    return targets_list"
   ]
  },
  {
   "cell_type": "markdown",
   "metadata": {},
   "source": [
    "# Função similarity_func\n",
    "\n",
    "- Função criada para retornar o quão similar duas imagens são.\n",
    "- Fizemos um cálculo de diferença média absoluta dos pixels para tal."
   ]
  },
  {
   "cell_type": "code",
   "execution_count": 6,
   "metadata": {},
   "outputs": [],
   "source": [
    "def similarity_func(img1, img2):\n",
    "    \"\"\"\n",
    "        Função de similaridade usando a diferença média dos pixels\n",
    "        \n",
    "        Parâmetros\n",
    "        ----------\n",
    "        img1 : numpy.ndarray\n",
    "            Imagem 1 a ser comparada\n",
    "            \n",
    "        img2 : numpy.ndarray\n",
    "            Imagem 2 a ser comparada\n",
    "            \n",
    "        Retorno\n",
    "        -------\n",
    "            Retorna o valor da diferença média dos pixels\n",
    "    \"\"\"\n",
    "    \n",
    "    return np.sum(np.abs(img1 - img2)) / (img1.size)"
   ]
  },
  {
   "cell_type": "markdown",
   "metadata": {},
   "source": [
    "# Função template_matching\n",
    "- Essa função cumpre o papel de: para cada imagem do alvo rotacionado, verificar o quão similar ela é com a imagem obtida no passo da homografia. Salvando o índice da imagem que possui o menor valor retornado pela função similarity_func, em outras palavras, a mais similar.\n",
    "- Caso essa imagem não possua valor de similaridade menor do que a tolerância definida, não aceitamos e retornamos -1. Caso contrário, retornamos o índice encontrado."
   ]
  },
  {
   "cell_type": "code",
   "execution_count": 7,
   "metadata": {},
   "outputs": [],
   "source": [
    "def template_matching(img, targets, sim_func, tol=25):\n",
    "    \"\"\"\n",
    "        Função que realiza o casamento de template\n",
    "        \n",
    "        Parâmetros\n",
    "        ----------\n",
    "        img : numpy.ndarray\n",
    "            Imagem que se quer casar\n",
    "            \n",
    "        targets : numpy.ndarray list\n",
    "            Lista de alvos que iremos casar\n",
    "            \n",
    "        simFunc : function\n",
    "            Função de similaridade que aceita dois numpy.ndarray,\n",
    "            realiza os cálculos e retorna um número\n",
    "            \n",
    "        tol : float, opcional\n",
    "            Tolerância para ser um casamento válido (por padrão é 20)\n",
    "            \n",
    "        Retorno\n",
    "        -------\n",
    "        int\n",
    "            Caso o valor de similaridade esteja abaixo da tolerância,\n",
    "            retornamos o índice do alvo que resultou em um casamento\n",
    "            bem-sucedido (seguindo a mesma ordem dos ângulos).\n",
    "            Senão, retornamos -1.\n",
    "    \"\"\"\n",
    "    \n",
    "    min_similarity = sim_func(img, targets[0])\n",
    "    min_pos = 0\n",
    "    \n",
    "    # Caminhando por cada alvo, comparando o valor de similaridade do atual e \n",
    "    # atualizando, caso necessário, as variáveis\n",
    "    for i in range(1, len(targets)):\n",
    "        current = sim_func(img, targets[i])\n",
    "        if current < min_similarity:\n",
    "            min_similarity = current\n",
    "            min_pos = i\n",
    "    \n",
    "    return min_pos if min_similarity <= tol else -1"
   ]
  },
  {
   "cell_type": "code",
   "execution_count": null,
   "metadata": {},
   "outputs": [],
   "source": []
  },
  {
   "cell_type": "code",
   "execution_count": null,
   "metadata": {},
   "outputs": [],
   "source": []
  },
  {
   "cell_type": "code",
   "execution_count": null,
   "metadata": {},
   "outputs": [],
   "source": []
  },
  {
   "cell_type": "code",
   "execution_count": null,
   "metadata": {},
   "outputs": [],
   "source": []
  },
  {
   "cell_type": "code",
   "execution_count": null,
   "metadata": {},
   "outputs": [],
   "source": []
  },
  {
   "cell_type": "code",
   "execution_count": null,
   "metadata": {},
   "outputs": [],
   "source": []
  },
  {
   "cell_type": "code",
   "execution_count": null,
   "metadata": {},
   "outputs": [],
   "source": []
  },
  {
   "cell_type": "code",
   "execution_count": null,
   "metadata": {},
   "outputs": [],
   "source": []
  },
  {
   "cell_type": "code",
   "execution_count": null,
   "metadata": {},
   "outputs": [],
   "source": []
  },
  {
   "cell_type": "code",
   "execution_count": null,
   "metadata": {},
   "outputs": [],
   "source": []
  },
  {
   "cell_type": "code",
   "execution_count": 34,
   "metadata": {},
   "outputs": [],
   "source": [
    "for frame in frames.copy():\n",
    "    # Convertendo a imagem para tons de cinza\n",
    "    gray = cv2.cvtColor(frame, cv2.COLOR_RGB2GRAY)\n",
    "    \n",
    "    # Detectando bordas com Canny e contornos\n",
    "    canny = cv2.Canny(gray, 150, 200)\n",
    "    contours, _ = cv2.findContours(canny, cv2.RETR_TREE, cv2.CHAIN_APPROX_SIMPLE)\n",
    "    \n",
    "    # Guardando uma lista de pontos para os possíveis alvos\n",
    "    pts = []\n",
    "    \n",
    "    for c in contours:\n",
    "        # Aproximando o contorno via um polígono \n",
    "        peri = cv2.arcLength(c, True)\n",
    "        approx = cv2.approxPolyDP(c, 0.02 * peri, True)\n",
    "        \n",
    "        # Caso esse polígono possua 4 pontos adicionamos ele na nossa lista (um provável alvo)\n",
    "        if len(approx) == 4:\n",
    "            pts.append(approx)\n",
    "\n",
    "    # Desenhando os contornos\n",
    "    for c in pts:\n",
    "        cv2.drawContours(frame, c, -1, (0,255,0), 5)\n",
    "        \n",
    "    # Exibindo o frame\n",
    "    cv2.imshow('Teste', frame)\n",
    "    \n",
    "    # Caso o usuário aperte 'q', o vídeo termina\n",
    "    if cv2.waitKey(15) == ord('q'):\n",
    "        break\n",
    "        \n",
    "cv2.destroyAllWindows()"
   ]
  },
  {
   "cell_type": "code",
   "execution_count": null,
   "metadata": {},
   "outputs": [],
   "source": []
  }
 ],
 "metadata": {
  "kernelspec": {
   "display_name": "Python 3",
   "language": "python",
   "name": "python3"
  },
  "language_info": {
   "codemirror_mode": {
    "name": "ipython",
    "version": 3
   },
   "file_extension": ".py",
   "mimetype": "text/x-python",
   "name": "python",
   "nbconvert_exporter": "python",
   "pygments_lexer": "ipython3",
   "version": "3.7.3"
  }
 },
 "nbformat": 4,
 "nbformat_minor": 2
}
